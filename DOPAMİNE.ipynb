{
  "nbformat": 4,
  "nbformat_minor": 0,
  "metadata": {
    "colab": {
      "provenance": []
    },
    "kernelspec": {
      "name": "python3",
      "display_name": "Python 3"
    },
    "language_info": {
      "name": "python"
    }
  },
  "cells": [
    {
      "cell_type": "markdown",
      "source": [
        "Sosyal medyanın dopamin salgısı üzzerine etkisini araştırmak için yaklaşık 30 kişiyle yaptığım 10 soruluk ankette sosyal medyanın duygu değişimlerimiz üstünde etkisine bakarak dopamin salgısını arttırıp arttırmadığını ölçmeye çalıştım.\n",
        "\n",
        "Hipotezim şu şekilde:\n",
        "H0: sosyal medya dopamin dengemizi bozuyor\n",
        "H1: sosyal medya dopamin dengemizi bozmuyor\n",
        "\n",
        "Anket: https://forms.gle/JZq3gTZyizuLYC4S9"
      ],
      "metadata": {
        "id": "K5nQK_xY2-_v"
      }
    },
    {
      "cell_type": "code",
      "execution_count": 4,
      "metadata": {
        "id": "YAsP8wxYJ2SM"
      },
      "outputs": [],
      "source": [
        "import numpy as np\n",
        "import matplotlib.pyplot as plt\n",
        "import pandas as pd\n",
        "import seaborn as sns\n",
        "import statsmodels.api as sm\n",
        "from statsmodels.formula.api import ols"
      ]
    },
    {
      "cell_type": "markdown",
      "source": [
        "Bu çalışmada bağımlı değişken olarak dopamin seviyesi bağımsız değişken olarak ise:\n",
        "\n",
        "”Sosyal medyayı kullanırken hangi duyguları deneyimliyorsunuz?”\n",
        "“Sosyal medya paylaşımlarınızın beğeni ve paylaşım sayısı size nasıl hissettiriyor?”,\n",
        "“Sosyal medyayı kullanırken kendinizi başkalarıyla karşılaştırıyor musunuz? Nasıl hissediyorsunuz?”,\n",
        "“Sosyal medyada paylaşım yaparken nasıl bir motivasyon hissediyorsunuz?”,\n",
        "“Sosyal medyada geçirdiğiniz zamanın size sağladığı ödülü nasıl değerlendirirsiniz?”,\n",
        "“Sosyal medyada geçirdiğiniz zamanın size sağladığı ödülü nasıl değerlendirirsiniz?”\n",
        "sorularına verilen tepkileri ele alarak α=0,05 anlamlılık düzeyinde f testi ile hipotezimi test ettim."
      ],
      "metadata": {
        "id": "DlckY1nY3Q_d"
      }
    },
    {
      "cell_type": "code",
      "source": [
        "data = pd.read_excel('yanıt.xlsx')"
      ],
      "metadata": {
        "id": "Il4JXU93USLD"
      },
      "execution_count": 44,
      "outputs": []
    },
    {
      "cell_type": "code",
      "source": [
        "data.tail()"
      ],
      "metadata": {
        "colab": {
          "base_uri": "https://localhost:8080/",
          "height": 206
        },
        "id": "qsFN753TWHpQ",
        "outputId": "8b39536e-2b47-4847-d5c3-ddaeab9c763f"
      },
      "execution_count": 41,
      "outputs": [
        {
          "output_type": "execute_result",
          "data": {
            "text/plain": [
              "    Unnamed: 0 E-posta Adresi  yaşınız  S1  S2  \\\n",
              "22         NaN            NaN       23   1   1   \n",
              "23         NaN            NaN       32   0   1   \n",
              "24         NaN            NaN       22   1   1   \n",
              "25         NaN            NaN       19   0   1   \n",
              "26         NaN            NaN       22   0   1   \n",
              "\n",
              "                                                   S3 S4    S5  \\\n",
              "22                                      0, 1, 5, 8, 9  4     1   \n",
              "23                      0, 1, 2, 3, 4, 6, 7, 8, 9, 10  5    10   \n",
              "24                                        1, 5, 8, 10  7     9   \n",
              "25                            0, 1, 4, 6, 7, 8, 9, 10  4     7   \n",
              "26  0, 1, 2, 3, 4, 7, 8, 9, 10, Eğitim ve meslek i...  9  1, 7   \n",
              "\n",
              "                     S6                                                 S7  \\\n",
              "22                    4  Yakın arkadaşlarım ve aile üyelerimle daha sık...   \n",
              "23                    4  Hiçbir şekilde etkileşimde bulunmuyorum, sadec...   \n",
              "24              0, 1, 5  Hiçbir şekilde etkileşimde bulunmuyorum, sadec...   \n",
              "25        1, 4, 7, 8, 9  Yakın arkadaşlarım ve aile üyelerimle daha sık...   \n",
              "26  1, 2, 3, 4, 5, 6, 7  Yakın arkadaşlarım ve aile üyelerimle daha sık...   \n",
              "\n",
              "    S8       S9               S10            S11  \n",
              "22   2        1                 0              3  \n",
              "23   7       10                 5              6  \n",
              "24   2        3                 1              3  \n",
              "25   5  1, 8, 9              1, 3              3  \n",
              "26   2     0, 9  0, 1, 2, 3, 5, 7  3, 4, 5, 0, 7  "
            ],
            "text/html": [
              "\n",
              "  <div id=\"df-9aa5d80e-f52b-4e44-a743-f0e69d3dbc50\" class=\"colab-df-container\">\n",
              "    <div>\n",
              "<style scoped>\n",
              "    .dataframe tbody tr th:only-of-type {\n",
              "        vertical-align: middle;\n",
              "    }\n",
              "\n",
              "    .dataframe tbody tr th {\n",
              "        vertical-align: top;\n",
              "    }\n",
              "\n",
              "    .dataframe thead th {\n",
              "        text-align: right;\n",
              "    }\n",
              "</style>\n",
              "<table border=\"1\" class=\"dataframe\">\n",
              "  <thead>\n",
              "    <tr style=\"text-align: right;\">\n",
              "      <th></th>\n",
              "      <th>Unnamed: 0</th>\n",
              "      <th>E-posta Adresi</th>\n",
              "      <th>yaşınız</th>\n",
              "      <th>S1</th>\n",
              "      <th>S2</th>\n",
              "      <th>S3</th>\n",
              "      <th>S4</th>\n",
              "      <th>S5</th>\n",
              "      <th>S6</th>\n",
              "      <th>S7</th>\n",
              "      <th>S8</th>\n",
              "      <th>S9</th>\n",
              "      <th>S10</th>\n",
              "      <th>S11</th>\n",
              "    </tr>\n",
              "  </thead>\n",
              "  <tbody>\n",
              "    <tr>\n",
              "      <th>22</th>\n",
              "      <td>NaN</td>\n",
              "      <td>NaN</td>\n",
              "      <td>23</td>\n",
              "      <td>1</td>\n",
              "      <td>1</td>\n",
              "      <td>0, 1, 5, 8, 9</td>\n",
              "      <td>4</td>\n",
              "      <td>1</td>\n",
              "      <td>4</td>\n",
              "      <td>Yakın arkadaşlarım ve aile üyelerimle daha sık...</td>\n",
              "      <td>2</td>\n",
              "      <td>1</td>\n",
              "      <td>0</td>\n",
              "      <td>3</td>\n",
              "    </tr>\n",
              "    <tr>\n",
              "      <th>23</th>\n",
              "      <td>NaN</td>\n",
              "      <td>NaN</td>\n",
              "      <td>32</td>\n",
              "      <td>0</td>\n",
              "      <td>1</td>\n",
              "      <td>0, 1, 2, 3, 4, 6, 7, 8, 9, 10</td>\n",
              "      <td>5</td>\n",
              "      <td>10</td>\n",
              "      <td>4</td>\n",
              "      <td>Hiçbir şekilde etkileşimde bulunmuyorum, sadec...</td>\n",
              "      <td>7</td>\n",
              "      <td>10</td>\n",
              "      <td>5</td>\n",
              "      <td>6</td>\n",
              "    </tr>\n",
              "    <tr>\n",
              "      <th>24</th>\n",
              "      <td>NaN</td>\n",
              "      <td>NaN</td>\n",
              "      <td>22</td>\n",
              "      <td>1</td>\n",
              "      <td>1</td>\n",
              "      <td>1, 5, 8, 10</td>\n",
              "      <td>7</td>\n",
              "      <td>9</td>\n",
              "      <td>0, 1, 5</td>\n",
              "      <td>Hiçbir şekilde etkileşimde bulunmuyorum, sadec...</td>\n",
              "      <td>2</td>\n",
              "      <td>3</td>\n",
              "      <td>1</td>\n",
              "      <td>3</td>\n",
              "    </tr>\n",
              "    <tr>\n",
              "      <th>25</th>\n",
              "      <td>NaN</td>\n",
              "      <td>NaN</td>\n",
              "      <td>19</td>\n",
              "      <td>0</td>\n",
              "      <td>1</td>\n",
              "      <td>0, 1, 4, 6, 7, 8, 9, 10</td>\n",
              "      <td>4</td>\n",
              "      <td>7</td>\n",
              "      <td>1, 4, 7, 8, 9</td>\n",
              "      <td>Yakın arkadaşlarım ve aile üyelerimle daha sık...</td>\n",
              "      <td>5</td>\n",
              "      <td>1, 8, 9</td>\n",
              "      <td>1, 3</td>\n",
              "      <td>3</td>\n",
              "    </tr>\n",
              "    <tr>\n",
              "      <th>26</th>\n",
              "      <td>NaN</td>\n",
              "      <td>NaN</td>\n",
              "      <td>22</td>\n",
              "      <td>0</td>\n",
              "      <td>1</td>\n",
              "      <td>0, 1, 2, 3, 4, 7, 8, 9, 10, Eğitim ve meslek i...</td>\n",
              "      <td>9</td>\n",
              "      <td>1, 7</td>\n",
              "      <td>1, 2, 3, 4, 5, 6, 7</td>\n",
              "      <td>Yakın arkadaşlarım ve aile üyelerimle daha sık...</td>\n",
              "      <td>2</td>\n",
              "      <td>0, 9</td>\n",
              "      <td>0, 1, 2, 3, 5, 7</td>\n",
              "      <td>3, 4, 5, 0, 7</td>\n",
              "    </tr>\n",
              "  </tbody>\n",
              "</table>\n",
              "</div>\n",
              "    <div class=\"colab-df-buttons\">\n",
              "\n",
              "  <div class=\"colab-df-container\">\n",
              "    <button class=\"colab-df-convert\" onclick=\"convertToInteractive('df-9aa5d80e-f52b-4e44-a743-f0e69d3dbc50')\"\n",
              "            title=\"Convert this dataframe to an interactive table.\"\n",
              "            style=\"display:none;\">\n",
              "\n",
              "  <svg xmlns=\"http://www.w3.org/2000/svg\" height=\"24px\" viewBox=\"0 -960 960 960\">\n",
              "    <path d=\"M120-120v-720h720v720H120Zm60-500h600v-160H180v160Zm220 220h160v-160H400v160Zm0 220h160v-160H400v160ZM180-400h160v-160H180v160Zm440 0h160v-160H620v160ZM180-180h160v-160H180v160Zm440 0h160v-160H620v160Z\"/>\n",
              "  </svg>\n",
              "    </button>\n",
              "\n",
              "  <style>\n",
              "    .colab-df-container {\n",
              "      display:flex;\n",
              "      gap: 12px;\n",
              "    }\n",
              "\n",
              "    .colab-df-convert {\n",
              "      background-color: #E8F0FE;\n",
              "      border: none;\n",
              "      border-radius: 50%;\n",
              "      cursor: pointer;\n",
              "      display: none;\n",
              "      fill: #1967D2;\n",
              "      height: 32px;\n",
              "      padding: 0 0 0 0;\n",
              "      width: 32px;\n",
              "    }\n",
              "\n",
              "    .colab-df-convert:hover {\n",
              "      background-color: #E2EBFA;\n",
              "      box-shadow: 0px 1px 2px rgba(60, 64, 67, 0.3), 0px 1px 3px 1px rgba(60, 64, 67, 0.15);\n",
              "      fill: #174EA6;\n",
              "    }\n",
              "\n",
              "    .colab-df-buttons div {\n",
              "      margin-bottom: 4px;\n",
              "    }\n",
              "\n",
              "    [theme=dark] .colab-df-convert {\n",
              "      background-color: #3B4455;\n",
              "      fill: #D2E3FC;\n",
              "    }\n",
              "\n",
              "    [theme=dark] .colab-df-convert:hover {\n",
              "      background-color: #434B5C;\n",
              "      box-shadow: 0px 1px 3px 1px rgba(0, 0, 0, 0.15);\n",
              "      filter: drop-shadow(0px 1px 2px rgba(0, 0, 0, 0.3));\n",
              "      fill: #FFFFFF;\n",
              "    }\n",
              "  </style>\n",
              "\n",
              "    <script>\n",
              "      const buttonEl =\n",
              "        document.querySelector('#df-9aa5d80e-f52b-4e44-a743-f0e69d3dbc50 button.colab-df-convert');\n",
              "      buttonEl.style.display =\n",
              "        google.colab.kernel.accessAllowed ? 'block' : 'none';\n",
              "\n",
              "      async function convertToInteractive(key) {\n",
              "        const element = document.querySelector('#df-9aa5d80e-f52b-4e44-a743-f0e69d3dbc50');\n",
              "        const dataTable =\n",
              "          await google.colab.kernel.invokeFunction('convertToInteractive',\n",
              "                                                    [key], {});\n",
              "        if (!dataTable) return;\n",
              "\n",
              "        const docLinkHtml = 'Like what you see? Visit the ' +\n",
              "          '<a target=\"_blank\" href=https://colab.research.google.com/notebooks/data_table.ipynb>data table notebook</a>'\n",
              "          + ' to learn more about interactive tables.';\n",
              "        element.innerHTML = '';\n",
              "        dataTable['output_type'] = 'display_data';\n",
              "        await google.colab.output.renderOutput(dataTable, element);\n",
              "        const docLink = document.createElement('div');\n",
              "        docLink.innerHTML = docLinkHtml;\n",
              "        element.appendChild(docLink);\n",
              "      }\n",
              "    </script>\n",
              "  </div>\n",
              "\n",
              "\n",
              "<div id=\"df-f8ec73ca-76a4-4ef3-b6ee-d731867a32bf\">\n",
              "  <button class=\"colab-df-quickchart\" onclick=\"quickchart('df-f8ec73ca-76a4-4ef3-b6ee-d731867a32bf')\"\n",
              "            title=\"Suggest charts.\"\n",
              "            style=\"display:none;\">\n",
              "\n",
              "<svg xmlns=\"http://www.w3.org/2000/svg\" height=\"24px\"viewBox=\"0 0 24 24\"\n",
              "     width=\"24px\">\n",
              "    <g>\n",
              "        <path d=\"M19 3H5c-1.1 0-2 .9-2 2v14c0 1.1.9 2 2 2h14c1.1 0 2-.9 2-2V5c0-1.1-.9-2-2-2zM9 17H7v-7h2v7zm4 0h-2V7h2v10zm4 0h-2v-4h2v4z\"/>\n",
              "    </g>\n",
              "</svg>\n",
              "  </button>\n",
              "\n",
              "<style>\n",
              "  .colab-df-quickchart {\n",
              "    background-color: #E8F0FE;\n",
              "    border: none;\n",
              "    border-radius: 50%;\n",
              "    cursor: pointer;\n",
              "    display: none;\n",
              "    fill: #1967D2;\n",
              "    height: 32px;\n",
              "    padding: 0 0 0 0;\n",
              "    width: 32px;\n",
              "  }\n",
              "\n",
              "  .colab-df-quickchart:hover {\n",
              "    background-color: #E2EBFA;\n",
              "    box-shadow: 0px 1px 2px rgba(60, 64, 67, 0.3), 0px 1px 3px 1px rgba(60, 64, 67, 0.15);\n",
              "    fill: #174EA6;\n",
              "  }\n",
              "\n",
              "  [theme=dark] .colab-df-quickchart {\n",
              "    background-color: #3B4455;\n",
              "    fill: #D2E3FC;\n",
              "  }\n",
              "\n",
              "  [theme=dark] .colab-df-quickchart:hover {\n",
              "    background-color: #434B5C;\n",
              "    box-shadow: 0px 1px 3px 1px rgba(0, 0, 0, 0.15);\n",
              "    filter: drop-shadow(0px 1px 2px rgba(0, 0, 0, 0.3));\n",
              "    fill: #FFFFFF;\n",
              "  }\n",
              "</style>\n",
              "\n",
              "  <script>\n",
              "    async function quickchart(key) {\n",
              "      const charts = await google.colab.kernel.invokeFunction(\n",
              "          'suggestCharts', [key], {});\n",
              "    }\n",
              "    (() => {\n",
              "      let quickchartButtonEl =\n",
              "        document.querySelector('#df-f8ec73ca-76a4-4ef3-b6ee-d731867a32bf button');\n",
              "      quickchartButtonEl.style.display =\n",
              "        google.colab.kernel.accessAllowed ? 'block' : 'none';\n",
              "    })();\n",
              "  </script>\n",
              "</div>\n",
              "    </div>\n",
              "  </div>\n"
            ]
          },
          "metadata": {},
          "execution_count": 41
        }
      ]
    },
    {
      "cell_type": "code",
      "source": [
        "#Y bağımlı değişken X bağımsız değişken\n",
        "X = data[['S4', 'S5', 'S8', 'S9', 'S10', 'S11']]\n",
        "Y = data['S2']\n"
      ],
      "metadata": {
        "id": "7evkDa8FNL4n"
      },
      "execution_count": 46,
      "outputs": []
    },
    {
      "cell_type": "code",
      "source": [
        "#regresyon modelini oluşturalım\n",
        "model = ols('Y ~ S4 + S5 + S8 + S9 + S10 + S11', data=data).fit()"
      ],
      "metadata": {
        "id": "sJ8LfjbW_JmR"
      },
      "execution_count": 47,
      "outputs": []
    },
    {
      "cell_type": "code",
      "source": [
        "# Kareler toplamını hesaplayın\n",
        "kareler_toplami = np.sum((Y - np.mean(Y))**2)\n",
        "\n",
        "print(\"Kareler Toplamı:\", kareler_toplami)"
      ],
      "metadata": {
        "colab": {
          "base_uri": "https://localhost:8080/"
        },
        "id": "A4hz1fK-S5QF",
        "outputId": "b63b0b23-562b-47b0-974e-4e97aa9e29c0"
      },
      "execution_count": 48,
      "outputs": [
        {
          "output_type": "stream",
          "name": "stdout",
          "text": [
            "Kareler Toplamı: 7.851851851851853\n"
          ]
        }
      ]
    },
    {
      "cell_type": "code",
      "source": [
        "# Hataları hesaplayın\n",
        "residuals = model.resid\n",
        "\n",
        "# Hata karelerini alarak toplamını hesaplayın\n",
        "hata_kareler_toplami = np.sum(residuals**2)\n",
        "\n",
        "print(\"Hata Kareler Toplamı:\", hata_kareler_toplami)"
      ],
      "metadata": {
        "colab": {
          "base_uri": "https://localhost:8080/"
        },
        "id": "8yObJbieTI49",
        "outputId": "95b198b8-e755-44d0-e308-327793485e05"
      },
      "execution_count": null,
      "outputs": [
        {
          "output_type": "stream",
          "name": "stdout",
          "text": [
            "Hata Kareler Toplamı: 7.430242540270817e-27\n"
          ]
        }
      ]
    },
    {
      "cell_type": "code",
      "source": [
        "#F testi\n",
        "#kareler ortalaması\n",
        "a = kareler_toplami/(2-1)\n",
        "#hata kareler ortalaması\n",
        "b = hata_kareler_toplami/(27-2)\n",
        "print(\"F testi = \", a/b)"
      ],
      "metadata": {
        "colab": {
          "base_uri": "https://localhost:8080/"
        },
        "id": "mz2BHkBmUrwD",
        "outputId": "57934da8-f149-4a94-d6e8-6396ae5640ab"
      },
      "execution_count": null,
      "outputs": [
        {
          "output_type": "stream",
          "name": "stdout",
          "text": [
            "F testi =  2.6418558375772982e+28\n"
          ]
        }
      ]
    }
  ]
}